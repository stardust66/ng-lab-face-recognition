version https://git-lfs.github.com/spec/v1
oid sha256:cee340be7ebb84002aa24200fd8160b2deeca500072d7b50b2aa3086960f2967
size 1282748
